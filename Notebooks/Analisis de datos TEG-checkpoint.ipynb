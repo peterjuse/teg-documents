{
 "cells": [
  {
   "cell_type": "markdown",
   "metadata": {},
   "source": [
    "Este notebook tiene como fin poder probar los modos de optmizacion de datos y generacion de modelos predictivos a partir de los datos obtenidos de los dispositivos IoT creados para el trabajo especial de grado, con el fin de obtener la mejor manera de crear el pipeline de una base de datos cache a una de largo plazo y predicciones a corto y mediano plazo de las mediciones realizadas"
   ]
  },
  {
   "cell_type": "code",
   "execution_count": 11,
   "metadata": {},
   "outputs": [],
   "source": [
    "# Importando librerias\n",
    "import pandas as pd\n",
    "import numpy as np\n",
    "import matplotlib.pyplot as plt\n",
    "%matplotlib inline\n",
    "import seaborn as sns\n",
    "\n",
    "from bokeh.io import show, output_file\n",
    "from bokeh.models import ColumnDataSource, FactorRange, HoverTool\n",
    "from bokeh.plotting import figure\n",
    "from bokeh.embed import components\n",
    "from bokeh.sampledata.commits import data\n",
    "from bokeh.transform import jitter\n",
    "from bokeh.models.formatters import DatetimeTickFormatter\n",
    "from math import pi\n",
    "from influxdb import InfluxDBClient, DataFrameClient\n"
   ]
  },
  {
   "cell_type": "markdown",
   "metadata": {},
   "source": [
    "Con las librerias importadas podemos comenzar a explorar los datos. Para ello los traemos directamente sobre la base de datos transaccional (SensorData)."
   ]
  },
  {
   "cell_type": "code",
   "execution_count": 23,
   "metadata": {},
   "outputs": [
    {
     "data": {
      "text/plain": [
       "{}"
      ]
     },
     "execution_count": 23,
     "metadata": {},
     "output_type": "execute_result"
    }
   ],
   "source": [
    "pasado = \"12m\" # Cambiar para establecer el tamaño del intervalo de tiempo\n",
    "dispositivo = \"RPi3Javier\" # Cambiar por el dispositivo del cual se quiere la medicion\n",
    "medicion = \"Temperatura\" # Cambiar a la variable que se desee \n",
    "\n",
    "# Obtenemos los datos desde la BD a traves de un query y se almacenan en un dataframe de pandas\n",
    "cliente = DataFrameClient(host='127.0.0.1',port=8086, username='gateway',\n",
    "                                password='MedicionesIoTDB',database='SensorData')\n",
    "respuesta = cliente.query(\"select time,variable from \"+ medicion +\n",
    "                            \" where host='\" + dispositivo + \n",
    "                            \"' and time < now() and time > now()-\" + pasado)\n",
    "#cliente.close()\n",
    "#df = respuesta[medicion]\n",
    "respuesta"
   ]
  },
  {
   "cell_type": "markdown",
   "metadata": {},
   "source": [
    "Una vez obtenido los datos, se procede a su manipulación. Lo primero es observar las caracteristicas del conjunto de datos actual"
   ]
  },
  {
   "cell_type": "code",
   "execution_count": null,
   "metadata": {},
   "outputs": [],
   "source": []
  }
 ],
 "metadata": {
  "kernelspec": {
   "display_name": "Notebook TEG",
   "language": "python",
   "name": "notebook_teg"
  },
  "language_info": {
   "codemirror_mode": {
    "name": "ipython",
    "version": 3
   },
   "file_extension": ".py",
   "mimetype": "text/x-python",
   "name": "python",
   "nbconvert_exporter": "python",
   "pygments_lexer": "ipython3",
   "version": "3.7.4"
  }
 },
 "nbformat": 4,
 "nbformat_minor": 2
}
